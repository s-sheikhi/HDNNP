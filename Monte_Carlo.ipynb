{
 "cells": [
  {
   "cell_type": "code",
   "execution_count": 1,
   "id": "ee51d260-e7e8-4c3c-84f2-5c0d8ebb1173",
   "metadata": {},
   "outputs": [
    {
     "name": "stdout",
     "output_type": "stream",
     "text": [
      "False\n"
     ]
    }
   ],
   "source": [
    "import numpy as np\n",
    "\n",
    "def metropolis_step(energy_old, energy_new, temperature=300):\n",
    "    \"\"\"Simple Metropolis criterion\"\"\"\n",
    "    if energy_new < energy_old:\n",
    "        return True\n",
    "    else:\n",
    "        probability = np.exp((energy_old - energy_new) / (8.617e-5 * temperature))\n",
    "        return np.random.rand() < probability\n",
    "\n",
    "# Example test\n",
    "print(metropolis_step(-10.0, -9.5))"
   ]
  },
  {
   "cell_type": "code",
   "execution_count": null,
   "id": "b24d2ab0-829e-4f1a-af44-063ef7968a0d",
   "metadata": {},
   "outputs": [],
   "source": []
  }
 ],
 "metadata": {
  "kernelspec": {
   "display_name": "Python 3 (ipykernel)",
   "language": "python",
   "name": "python3"
  },
  "language_info": {
   "codemirror_mode": {
    "name": "ipython",
    "version": 3
   },
   "file_extension": ".py",
   "mimetype": "text/x-python",
   "name": "python",
   "nbconvert_exporter": "python",
   "pygments_lexer": "ipython3",
   "version": "3.10.6"
  }
 },
 "nbformat": 4,
 "nbformat_minor": 5
}
